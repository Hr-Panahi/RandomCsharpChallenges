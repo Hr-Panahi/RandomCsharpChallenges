{
 "cells": [
  {
   "cell_type": "markdown",
   "metadata": {},
   "source": [
    "## Code challenge - implement the FizzBuzz challenge rules\n",
    "Here are the FizzBuzz rules that you need to implement in your code project:\n",
    "\n",
    "* Output values from 1 to 100, one number per line, inside the code block of an iteration statement.\n",
    "* When the current value is divisible by 3, print the term Fizz next to the number.\n",
    "* When the current value is divisible by 5, print the term Buzz next to the number.\n",
    "* When the current value is divisible by both 3 and 5, print the term FizzBuzz next to the number.\n",
    "\n",
    "1. Ensure that you have an empty Program.cs file open in Visual Studio Code.\n",
    "\n",
    "If necessary, open Visual Studio Code, and then complete the following steps to prepare a Program.cs file in the Editor:\n",
    "\n",
    "* On the File menu, select Open Folder.\n",
    "\n",
    "* Use the Open Folder dialog to navigate to, and then open, the CsharpProjects folder.\n",
    "\n",
    "* In the Visual Studio Code EXPLORER panel, select Program.cs.\n",
    "\n",
    "* On the Visual Studio Code Selection menu, select Select All, and then press the Delete key."
   ]
  },
  {
   "cell_type": "code",
   "execution_count": null,
   "metadata": {
    "dotnet_interactive": {
     "language": "csharp"
    },
    "polyglot_notebook": {
     "kernelName": "csharp"
    }
   },
   "outputs": [],
   "source": [
    "for (int i = 1; i <= 100; i++)\n",
    "{\n",
    "    if (i % 3 == 0)\n",
    "        if (i % 5 ==0)\n",
    "            Console.WriteLine(i + \" - FizzBuzz\");\n",
    "        else\n",
    "            Console.WriteLine(i + \" - Fizz\");\n",
    "\n",
    "    else if (i % 5 == 0)\n",
    "        if (i % 3 ==0)\n",
    "            Console.WriteLine(i + \" - FizzBuzz\");\n",
    "        else\n",
    "            Console.WriteLine(i + \" - Buzz\");    \n",
    "    else\n",
    "        Console.WriteLine(i);\n",
    "}"
   ]
  }
 ],
 "metadata": {
  "kernelspec": {
   "display_name": ".NET (C#)",
   "language": "C#",
   "name": ".net-csharp"
  },
  "language_info": {
   "name": "polyglot-notebook"
  },
  "polyglot_notebook": {
   "kernelInfo": {
    "defaultKernelName": "csharp",
    "items": [
     {
      "aliases": [],
      "languageName": "csharp",
      "name": "csharp"
     }
    ]
   }
  }
 },
 "nbformat": 4,
 "nbformat_minor": 2
}
