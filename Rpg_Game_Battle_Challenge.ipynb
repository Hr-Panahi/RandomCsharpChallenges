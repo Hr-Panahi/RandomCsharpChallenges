{
 "cells": [
  {
   "cell_type": "markdown",
   "metadata": {},
   "source": [
    "# Role playing game battle challenge\n",
    " In some role playing games, the player's character battles non-player characters, which are usually monsters or the \"bad guys\". Sometimes, a battle consists of each character generating a random value using dice and that value is subtracted from the opponent's health score. Once either character's health reaches zero, they lose the game.\n",
    "\n",
    "In this challenge, we'll boil down that interaction to its essence. A hero and a monster start with the same health score. During the hero's turn, they'll generate a random value which will be subtracted from the monster's health. If the monster's health is greater than zero, they'll take their turn and attack the hero. As long as both the hero and the monster have health greater than zero, the battle will resume.\n",
    "\n",
    "# Code challenge - write code to implement the game rules\n",
    "Here are the rules for the battle game that you need to implement in your code project:\n",
    "\n",
    "* You must use either the do-while statement or the while statement as an outer game loop.\n",
    "* The hero and the monster will start with 10 health points.\n",
    "* All attacks will be a value between 1 and 10.\n",
    "* The hero will attack first.\n",
    "* Print the amount of health the monster lost and their remaining health.\n",
    "* If the monster's health is greater than 0, it can attack the hero.\n",
    "* Print the amount of health the hero lost and their remaining health.\n",
    "* Continue this sequence of attacking until either the monster's health or hero's health is zero or less.\n",
    "* Print the winner."
   ]
  },
  {
   "cell_type": "code",
   "execution_count": 5,
   "metadata": {
    "dotnet_interactive": {
     "language": "csharp"
    },
    "polyglot_notebook": {
     "kernelName": "csharp"
    }
   },
   "outputs": [
    {
     "name": "stdout",
     "output_type": "stream",
     "text": [
      "Monster was damaged and lost 1 health and now has 9 health.\n",
      "Hero was damaged and lost 4 health and now has 6 health.\n",
      "Monster was damaged and lost 8 health and now has 1 health.\n",
      "Hero was damaged and lost 5 health and now has 1 health.\n",
      "Monster was damaged and lost 8 health and now has -7 health.\n",
      "Hero wins!\n"
     ]
    }
   ],
   "source": [
    "Random random = new Random();\n",
    "int heroHp = 10;\n",
    "int monsterHp = 10;\n",
    "int damage;\n",
    "\n",
    "do\n",
    "{\n",
    "    damage = random.Next(1, 11);\n",
    "    monsterHp -= damage;\n",
    "    Console.WriteLine($\"Monster was damaged and lost {damage} health and now has {monsterHp} health.\");\n",
    "    \n",
    "    if (monsterHp <= 0) continue;\n",
    "\n",
    "    damage = random.Next(1,11);\n",
    "    heroHp -= damage;\n",
    "    Console.WriteLine($\"Hero was damaged and lost {damage} health and now has {heroHp} health.\");\n",
    "\n",
    "} while (heroHp > 0 && monsterHp > 0);\n",
    "\n",
    "Console.WriteLine(heroHp > monsterHp ? \"Hero wins!\" : \"Monster wins!\");\n"
   ]
  }
 ],
 "metadata": {
  "kernelspec": {
   "display_name": ".NET (C#)",
   "language": "C#",
   "name": ".net-csharp"
  },
  "language_info": {
   "name": "polyglot-notebook"
  },
  "polyglot_notebook": {
   "kernelInfo": {
    "defaultKernelName": "csharp",
    "items": [
     {
      "aliases": [],
      "languageName": "csharp",
      "name": "csharp"
     }
    ]
   }
  }
 },
 "nbformat": 4,
 "nbformat_minor": 2
}
